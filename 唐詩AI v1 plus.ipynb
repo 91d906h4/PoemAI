{
 "cells": [
  {
   "cell_type": "code",
   "execution_count": 102,
   "metadata": {},
   "outputs": [],
   "source": [
    "import os\n",
    "import math\n",
    "import time\n",
    "import json\n",
    "import torch\n",
    "import matplotlib.pyplot as plt\n",
    "\n",
    "from torch import nn\n",
    "from opencc import OpenCC\n",
    "from torch.autograd import Variable"
   ]
  },
  {
   "cell_type": "code",
   "execution_count": 2,
   "metadata": {},
   "outputs": [
    {
     "data": {
      "text/plain": [
       "True"
      ]
     },
     "execution_count": 2,
     "metadata": {},
     "output_type": "execute_result"
    }
   ],
   "source": [
    "torch.cuda.is_available()"
   ]
  },
  {
   "cell_type": "code",
   "execution_count": 3,
   "metadata": {},
   "outputs": [],
   "source": [
    "data_path = \"./dataset/全唐诗/\""
   ]
  },
  {
   "cell_type": "code",
   "execution_count": 4,
   "metadata": {},
   "outputs": [],
   "source": [
    "data_dir = os.listdir(data_path)"
   ]
  },
  {
   "cell_type": "code",
   "execution_count": 5,
   "metadata": {},
   "outputs": [],
   "source": [
    "data_raw = []\n",
    "\n",
    "for filename in data_dir:\n",
    "    if not filename.startswith(\"poet.song.\"): continue\n",
    "    content = json.load(open(data_path + filename, encoding=\"utf-8\"))\n",
    "\n",
    "    for poem in content:\n",
    "        for line in poem[\"paragraphs\"]:\n",
    "            # only remain poems with 7 words (七言絕句/律詩).\n",
    "            if len(line) != 16: break\n",
    "            data_raw.append(line)"
   ]
  },
  {
   "cell_type": "code",
   "execution_count": 6,
   "metadata": {},
   "outputs": [
    {
     "name": "stdout",
     "output_type": "stream",
     "text": [
      "Total: 511460 poems.\n"
     ]
    }
   ],
   "source": [
    "print(f\"Total: %d poems.\" % len(data_raw))"
   ]
  },
  {
   "cell_type": "code",
   "execution_count": 7,
   "metadata": {},
   "outputs": [],
   "source": [
    "data_raw = data_raw[:12000]"
   ]
  },
  {
   "cell_type": "code",
   "execution_count": 8,
   "metadata": {},
   "outputs": [],
   "source": [
    "# Translate from simplified to traditinal.\n",
    "cc = OpenCC(\"s2t\")\n",
    "data_convert = [cc.convert(x) for x in data_raw]"
   ]
  },
  {
   "cell_type": "code",
   "execution_count": 9,
   "metadata": {},
   "outputs": [],
   "source": [
    "data_split = [list(x) for x in data_convert]"
   ]
  },
  {
   "cell_type": "code",
   "execution_count": 10,
   "metadata": {},
   "outputs": [
    {
     "data": {
      "text/plain": [
       "['欲',\n",
       " '出',\n",
       " '未',\n",
       " '出',\n",
       " '光',\n",
       " '辣',\n",
       " '達',\n",
       " '，',\n",
       " '千',\n",
       " '山',\n",
       " '萬',\n",
       " '山',\n",
       " '如',\n",
       " '火',\n",
       " '發',\n",
       " '。']"
      ]
     },
     "execution_count": 10,
     "metadata": {},
     "output_type": "execute_result"
    }
   ],
   "source": [
    "data_split[0]"
   ]
  },
  {
   "cell_type": "code",
   "execution_count": 11,
   "metadata": {},
   "outputs": [],
   "source": [
    "word_set = set()\n",
    "\n",
    "for poem in data_split:\n",
    "    for word in poem:\n",
    "        word_set.add(str(word))"
   ]
  },
  {
   "cell_type": "code",
   "execution_count": 12,
   "metadata": {},
   "outputs": [],
   "source": [
    "word_len = len(word_set)"
   ]
  },
  {
   "cell_type": "code",
   "execution_count": 13,
   "metadata": {},
   "outputs": [],
   "source": [
    "word_to_index = {x: i for i, x in enumerate(word_set)}\n",
    "index_to_word = {i: x for i, x in enumerate(word_set)}"
   ]
  },
  {
   "cell_type": "code",
   "execution_count": 14,
   "metadata": {},
   "outputs": [],
   "source": [
    "train_ds = []\n",
    "\n",
    "for data in data_split:\n",
    "    temp = [(data[i:i + 8], data[i + 8]) for i in range(8)]\n",
    "    train_ds.extend(temp)"
   ]
  },
  {
   "cell_type": "code",
   "execution_count": 15,
   "metadata": {},
   "outputs": [
    {
     "data": {
      "text/plain": [
       "[(['欲', '出', '未', '出', '光', '辣', '達', '，'], '千'),\n",
       " (['出', '未', '出', '光', '辣', '達', '，', '千'], '山'),\n",
       " (['未', '出', '光', '辣', '達', '，', '千', '山'], '萬'),\n",
       " (['出', '光', '辣', '達', '，', '千', '山', '萬'], '山'),\n",
       " (['光', '辣', '達', '，', '千', '山', '萬', '山'], '如'),\n",
       " (['辣', '達', '，', '千', '山', '萬', '山', '如'], '火'),\n",
       " (['達', '，', '千', '山', '萬', '山', '如', '火'], '發'),\n",
       " (['，', '千', '山', '萬', '山', '如', '火', '發'], '。')]"
      ]
     },
     "execution_count": 15,
     "metadata": {},
     "output_type": "execute_result"
    }
   ],
   "source": [
    "train_ds[:8]"
   ]
  },
  {
   "cell_type": "code",
   "execution_count": 16,
   "metadata": {},
   "outputs": [],
   "source": [
    "chunck_len = len(train_ds)"
   ]
  },
  {
   "cell_type": "code",
   "execution_count": 17,
   "metadata": {},
   "outputs": [
    {
     "data": {
      "text/plain": [
       "96000"
      ]
     },
     "execution_count": 17,
     "metadata": {},
     "output_type": "execute_result"
    }
   ],
   "source": [
    "chunck_len"
   ]
  },
  {
   "cell_type": "code",
   "execution_count": 18,
   "metadata": {},
   "outputs": [],
   "source": [
    "inputs, targets = [], []\n",
    "\n",
    "for content, target in train_ds:\n",
    "    content_index = torch.tensor([word_to_index[x] for x in content], dtype=torch.long)\n",
    "    inputs.append(content_index)\n",
    "\n",
    "    target_index = torch.tensor([word_to_index[target]], dtype=torch.long)\n",
    "    targets.append(target_index)"
   ]
  },
  {
   "cell_type": "code",
   "execution_count": 19,
   "metadata": {},
   "outputs": [
    {
     "data": {
      "text/plain": [
       "(tensor([2804, 4862,  797, 4862,  485,  802,  903, 1457]), tensor([1001]))"
      ]
     },
     "execution_count": 19,
     "metadata": {},
     "output_type": "execute_result"
    }
   ],
   "source": [
    "inputs[0], targets[0]"
   ]
  },
  {
   "cell_type": "code",
   "execution_count": 20,
   "metadata": {},
   "outputs": [],
   "source": [
    "class RNN(nn.Module):\n",
    "    def __init__(self, input_size, hidden_size, output_size, n_layers):\n",
    "        super(RNN, self).__init__()\n",
    "        self.input_size = input_size\n",
    "        self.hidden_size = hidden_size\n",
    "        self.output_size = output_size\n",
    "        self.n_layers = n_layers\n",
    "        \n",
    "        self.encoder = nn.Embedding(input_size, hidden_size)\n",
    "        self.gru = nn.GRU(hidden_size * 8, hidden_size, n_layers, batch_first=True, bidirectional=False)\n",
    "        self.decoder = nn.Linear(hidden_size, output_size)\n",
    "\n",
    "    def init_hidden(self):\n",
    "        return Variable(torch.zeros(self.n_layers, 1, self.hidden_size))\n",
    "\n",
    "    def forward(self, input: torch.Tensor, hidden: torch.Tensor):\n",
    "        input = self.encoder(input.view(1, -1))\n",
    "        output, hidden = self.gru(input.view(1, 1, -1), hidden)\n",
    "        output = self.decoder(output.view(1, -1))\n",
    "\n",
    "        return output, hidden"
   ]
  },
  {
   "cell_type": "code",
   "execution_count": 21,
   "metadata": {},
   "outputs": [],
   "source": [
    "# n_epochs = 80\n",
    "# print_every = 100\n",
    "# plot_every = 1\n",
    "# hidden_size = 750\n",
    "# n_layers = 1\n",
    "# lr = 0.015\n",
    "\n",
    "# Dataset: 12000\n",
    "# Optimizer: Adam\n",
    "# Loss Function: CrossEntropyLoss"
   ]
  },
  {
   "cell_type": "code",
   "execution_count": 22,
   "metadata": {},
   "outputs": [
    {
     "data": {
      "text/plain": [
       "RNN(\n",
       "  (encoder): Embedding(5198, 750)\n",
       "  (gru): GRU(6000, 750, batch_first=True)\n",
       "  (decoder): Linear(in_features=750, out_features=5198, bias=True)\n",
       ")"
      ]
     },
     "execution_count": 22,
     "metadata": {},
     "output_type": "execute_result"
    }
   ],
   "source": [
    "n_epochs = 80\n",
    "print_every = 100\n",
    "plot_every = 1\n",
    "hidden_size = 750\n",
    "n_layers = 1\n",
    "lr = 0.015\n",
    "\n",
    "decoder = RNN(word_len, hidden_size, word_len, n_layers)\n",
    "decoder_optimizer = torch.optim.Adam(decoder.parameters(), lr=lr)\n",
    "criterion = nn.CrossEntropyLoss()\n",
    "\n",
    "start = time.time()\n",
    "all_losses = []\n",
    "loss_avg = 0\n",
    "decoder.cuda()"
   ]
  },
  {
   "cell_type": "code",
   "execution_count": 23,
   "metadata": {},
   "outputs": [
    {
     "name": "stdout",
     "output_type": "stream",
     "text": [
      "22994198\n"
     ]
    }
   ],
   "source": [
    "param = 0\n",
    "\n",
    "for p in decoder.parameters():\n",
    "    param += p.numel()\n",
    "\n",
    "print(param)"
   ]
  },
  {
   "cell_type": "code",
   "execution_count": 24,
   "metadata": {},
   "outputs": [],
   "source": [
    "def train(inputs, target):\n",
    "    hidden = decoder.init_hidden().cuda()\n",
    "    decoder.zero_grad()\n",
    "    loss: torch.Tensor = 0\n",
    "    \n",
    "    for c in range(chunck_len):\n",
    "        output, hidden = decoder(inputs[c].cuda(), hidden)\n",
    "        loss += criterion(output, target[c].cuda())\n",
    "\n",
    "    loss.backward()\n",
    "    decoder_optimizer.step()\n",
    "\n",
    "    return loss.data.item() / chunck_len"
   ]
  },
  {
   "cell_type": "code",
   "execution_count": 25,
   "metadata": {},
   "outputs": [],
   "source": [
    "def time_since(since):\n",
    "    s = time.time() - since\n",
    "    m = math.floor(s / 60)\n",
    "    s -= m * 60\n",
    "    return '%dm %ds' % (m, s)"
   ]
  },
  {
   "cell_type": "code",
   "execution_count": 26,
   "metadata": {},
   "outputs": [
    {
     "name": "stdout",
     "output_type": "stream",
     "text": [
      "[2m 54s (1 1%) 8.6132]\n",
      "[5m 48s (2 2%) 8.4691]\n",
      "[8m 40s (3 3%) 8.0632]\n",
      "[11m 35s (4 5%) 9.2646]\n",
      "[14m 28s (5 6%) 9.1008]\n",
      "[17m 22s (6 7%) 8.7497]\n",
      "[20m 14s (7 8%) 7.9971]\n",
      "[23m 5s (8 10%) 7.8436]\n",
      "[25m 58s (9 11%) 7.7047]\n",
      "[28m 50s (10 12%) 7.5647]\n",
      "[31m 41s (11 13%) 7.4474]\n",
      "[34m 34s (12 15%) 7.2649]\n",
      "[37m 25s (13 16%) 7.0475]\n",
      "[40m 17s (14 17%) 6.8422]\n",
      "[43m 7s (15 18%) 6.7035]\n",
      "[45m 58s (16 20%) 6.5400]\n",
      "[48m 49s (17 21%) 6.3914]\n",
      "[51m 40s (18 22%) 6.2428]\n",
      "[54m 32s (19 23%) 6.0943]\n",
      "[57m 23s (20 25%) 5.9569]\n",
      "[60m 15s (21 26%) 5.8458]\n",
      "[63m 5s (22 27%) 5.7293]\n",
      "[65m 57s (23 28%) 5.5628]\n",
      "[68m 48s (24 30%) 5.4127]\n",
      "[71m 40s (25 31%) 5.2638]\n",
      "[74m 31s (26 32%) 5.1430]\n",
      "[77m 23s (27 33%) 5.0642]\n",
      "[80m 15s (28 35%) 4.8613]\n",
      "[83m 7s (29 36%) 4.7138]\n",
      "[85m 59s (30 37%) 4.5819]\n",
      "[88m 51s (31 38%) 4.3968]\n",
      "[91m 43s (32 40%) 4.2321]\n",
      "[94m 35s (33 41%) 4.0648]\n",
      "[97m 26s (34 42%) 3.8910]\n",
      "[100m 19s (35 43%) 3.7174]\n",
      "[103m 10s (36 45%) 3.5465]\n",
      "[106m 3s (37 46%) 3.3739]\n",
      "[108m 55s (38 47%) 3.2006]\n",
      "[111m 47s (39 48%) 3.0265]\n",
      "[114m 39s (40 50%) 2.8591]\n",
      "[117m 30s (41 51%) 2.6979]\n",
      "[120m 22s (42 52%) 2.5431]\n",
      "[123m 13s (43 53%) 2.4052]\n",
      "[126m 6s (44 55%) 2.2863]\n",
      "[128m 56s (45 56%) 2.1241]\n",
      "[131m 48s (46 57%) 1.9408]\n",
      "[134m 41s (47 58%) 1.8095]\n",
      "[137m 33s (48 60%) 1.6718]\n",
      "[140m 25s (49 61%) 1.5332]\n",
      "[143m 16s (50 62%) 1.4094]\n",
      "[146m 9s (51 63%) 1.2896]\n",
      "[149m 3s (52 65%) 1.1743]\n",
      "[151m 56s (53 66%) 1.0717]\n",
      "[154m 49s (54 67%) 0.9736]\n",
      "[157m 41s (55 68%) 0.8823]\n",
      "[160m 33s (56 70%) 0.7991]\n",
      "[163m 25s (57 71%) 0.7230]\n",
      "[166m 18s (58 72%) 0.6529]\n",
      "[169m 10s (59 73%) 0.5894]\n",
      "[172m 3s (60 75%) 0.5320]\n",
      "[174m 56s (61 76%) 0.4795]\n",
      "[177m 49s (62 77%) 0.4329]\n",
      "[180m 41s (63 78%) 0.3904]\n",
      "[183m 32s (64 80%) 0.3525]\n",
      "[186m 23s (65 81%) 0.3185]\n",
      "[189m 15s (66 82%) 0.2879]\n",
      "[192m 8s (67 83%) 0.2609]\n",
      "[195m 1s (68 85%) 0.2366]\n",
      "[197m 54s (69 86%) 0.2149]\n",
      "[200m 45s (70 87%) 0.1956]\n",
      "[203m 38s (71 88%) 0.1783]\n",
      "[206m 29s (72 90%) 0.1629]\n",
      "[209m 21s (73 91%) 0.1492]\n",
      "[212m 13s (74 92%) 0.1369]\n",
      "[215m 5s (75 93%) 0.1259]\n",
      "[217m 56s (76 95%) 0.1161]\n",
      "[220m 47s (77 96%) 0.1073]\n",
      "[223m 40s (78 97%) 0.0994]\n",
      "[226m 35s (79 98%) 0.0923]\n",
      "[229m 26s (80 100%) 0.0859]\n"
     ]
    }
   ],
   "source": [
    "for epoch in range(1, n_epochs + 1):\n",
    "    loss = train(inputs, targets)       \n",
    "    loss_avg += loss\n",
    "\n",
    "    print('[%s (%d %d%%) %.4f]' % (time_since(start), epoch, epoch / n_epochs * 100, loss))\n",
    "\n",
    "    all_losses.append(loss_avg / plot_every)\n",
    "    loss_avg = 0"
   ]
  },
  {
   "cell_type": "code",
   "execution_count": 27,
   "metadata": {},
   "outputs": [
    {
     "data": {
      "text/plain": [
       "[<matplotlib.lines.Line2D at 0x207a6ce8850>]"
      ]
     },
     "execution_count": 27,
     "metadata": {},
     "output_type": "execute_result"
    },
    {
     "data": {
      "image/png": "[encoded data removed]",
      "text/plain": [
       "<Figure size 640x480 with 1 Axes>"
      ]
     },
     "metadata": {},
     "output_type": "display_data"
    }
   ],
   "source": [
    "plt.figure()\n",
    "plt.plot(all_losses)"
   ]
  },
  {
   "cell_type": "code",
   "execution_count": 37,
   "metadata": {},
   "outputs": [],
   "source": [
    "torch.save(decoder, \"./PoemAI_v1_plus.pt\")"
   ]
  },
  {
   "cell_type": "code",
   "execution_count": 29,
   "metadata": {},
   "outputs": [],
   "source": [
    "@torch.no_grad()\n",
    "def evaluate(prompt: str, predict_len=8, temperature=1):\n",
    "    hidden = decoder.init_hidden().cuda()\n",
    "\n",
    "    for p in range(predict_len):\n",
    "        prompt_input = torch.tensor([word_to_index[x] for x in list(prompt)], dtype=torch.long).cuda()\n",
    "        inputs = prompt_input[-8:] # Max input size is 7.\n",
    "\n",
    "        outputs, hidden = decoder(inputs, hidden)\n",
    "\n",
    "        output_dist = outputs.data.view(-1).div(temperature).exp()\n",
    "        top = torch.multinomial(output_dist, 1)[0]\n",
    "\n",
    "        predict_word = index_to_word[int(top)]\n",
    "\n",
    "        prompt += predict_word\n",
    "\n",
    "    return prompt"
   ]
  },
  {
   "cell_type": "code",
   "execution_count": 101,
   "metadata": {},
   "outputs": [
    {
     "name": "stdout",
     "output_type": "stream",
     "text": [
      "鳳凰台上鳳凰遊，遂津樓骨且故峯。\n",
      "鳳凰台上鳳凰遊，人與星詩上有真。\n",
      "鳳凰台上鳳凰遊，露燔人間龍二船。\n",
      "鳳凰台上鳳凰遊，非匣百吟萬士新。\n",
      "鳳凰台上鳳凰遊，姓蟯原鳳絕柱鳴。\n",
      "鳳凰台上鳳凰遊，公茲如盤放無流。\n",
      "鳳凰台上鳳凰遊，鑾踏淫芋人勿爲。\n",
      "鳳凰台上鳳凰遊，霄是履天不上月。\n",
      "鳳凰台上鳳凰遊，丹戰人在亦有宗。\n",
      "鳳凰台上鳳凰遊，四溟休依黃地取。\n",
      "鳳凰台上鳳凰遊，汾是宗人到尊身。\n",
      "鳳凰台上鳳凰遊，辰兆公然真恨馬。\n",
      "鳳凰台上鳳凰遊，變冠英天只與朝。\n",
      "鳳凰台上鳳凰遊，萬殻瀑炷非生康。\n",
      "鳳凰台上鳳凰遊，公是樓前亦不歸。\n",
      "鳳凰台上鳳凰遊，人人塢詩隠世梁。\n",
      "鳳凰台上鳳凰遊，笙涼眼吟真作壽。\n",
      "鳳凰台上鳳凰遊，月遷煎頭寒一雲。\n",
      "鳳凰台上鳳凰遊，顱聞滿軒失九酌。\n",
      "鳳凰台上鳳凰遊，公氣煩窮葛影處。\n"
     ]
    }
   ],
   "source": [
    "prompt = \"鳳凰台上鳳凰遊，\"\n",
    "for _ in range(20):\n",
    "    output = evaluate(prompt)\n",
    "    print(output)"
   ]
  },
  {
   "cell_type": "code",
   "execution_count": null,
   "metadata": {},
   "outputs": [],
   "source": []
  }
 ],
 "metadata": {
  "kernelspec": {
   "display_name": "pytorch",
   "language": "python",
   "name": "python3"
  },
  "language_info": {
   "codemirror_mode": {
    "name": "ipython",
    "version": 3
   },
   "file_extension": ".py",
   "mimetype": "text/x-python",
   "name": "python",
   "nbconvert_exporter": "python",
   "pygments_lexer": "ipython3",
   "version": "3.10.11"
  },
  "orig_nbformat": 4
 },
 "nbformat": 4,
 "nbformat_minor": 2
}
